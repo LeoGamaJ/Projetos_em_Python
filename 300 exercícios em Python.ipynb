{
 "cells": [
  {
   "cell_type": "code",
   "execution_count": 26,
   "id": "232efa41",
   "metadata": {},
   "outputs": [
    {
     "name": "stdout",
     "output_type": "stream",
     "text": [
      "3.7.16\n"
     ]
    }
   ],
   "source": [
    "from platform import python_version\n",
    "print(python_version())"
   ]
  },
  {
   "cell_type": "markdown",
   "id": "c3fb0c01",
   "metadata": {},
   "source": [
    "# 300 Exercícios em Python"
   ]
  },
  {
   "cell_type": "markdown",
   "id": "2e3bae76",
   "metadata": {},
   "source": [
    "#### 1 - Cite três variáveis com trẽs tipos de dados diferentes, respeitando sua sintaxe.\n"
   ]
  },
  {
   "cell_type": "code",
   "execution_count": 3,
   "id": "a0744441",
   "metadata": {},
   "outputs": [],
   "source": [
    "nome = 'Leonardo'\n",
    "ano = 1988\n",
    "peso = 86.99"
   ]
  },
  {
   "cell_type": "markdown",
   "id": "52f76c57",
   "metadata": {},
   "source": [
    "#### 2 - Crie comentário de uma linha."
   ]
  },
  {
   "cell_type": "code",
   "execution_count": 1,
   "id": "9b37762f",
   "metadata": {},
   "outputs": [],
   "source": [
    "# Este é um exemplo de comentários com apenas uma linha."
   ]
  },
  {
   "cell_type": "markdown",
   "id": "ed5832b3",
   "metadata": {},
   "source": [
    "#### 3 - Crie comentário de mais de uma linha."
   ]
  },
  {
   "cell_type": "code",
   "execution_count": 10,
   "id": "dcd886d0",
   "metadata": {},
   "outputs": [
    {
     "data": {
      "text/plain": [
       "'Este é um exemplo de comentário com mais de uma linha \\ndemonstrando como podemos inserir comentários muito\\nlongos.'"
      ]
     },
     "execution_count": 10,
     "metadata": {},
     "output_type": "execute_result"
    }
   ],
   "source": [
    "\"\"\"Este é um exemplo de comentário com mais de uma linha \n",
    "demonstrando como podemos inserir comentários muito\n",
    "longos.\"\"\""
   ]
  },
  {
   "cell_type": "markdown",
   "id": "4cbf09e3",
   "metadata": {},
   "source": [
    "#### 4 - Escreva um programa que mostra em tela a mensagem: Olá Mundo!!! "
   ]
  },
  {
   "cell_type": "code",
   "execution_count": 11,
   "id": "4077d200",
   "metadata": {},
   "outputs": [
    {
     "name": "stdout",
     "output_type": "stream",
     "text": [
      "Olá Mundo!!!\n"
     ]
    }
   ],
   "source": [
    "print(\"Olá Mundo!!!\")"
   ]
  },
  {
   "cell_type": "markdown",
   "id": "9f87e7e4",
   "metadata": {},
   "source": [
    "#### 5 - Crie uma variável nome e atribua para a mesma um nome digitado pelo usuário."
   ]
  },
  {
   "cell_type": "code",
   "execution_count": 13,
   "id": "a8c1a487",
   "metadata": {},
   "outputs": [
    {
     "name": "stdout",
     "output_type": "stream",
     "text": [
      "Por favor, digite seu nome: Leo\n"
     ]
    }
   ],
   "source": [
    "nome = input('Por favor, digite seu nome: ')"
   ]
  },
  {
   "cell_type": "markdown",
   "id": "e81eb243",
   "metadata": {},
   "source": [
    "#### 6 - Exiba em tela o valor e o tipo de dados da variável num1: Sendo num1 = 1988."
   ]
  },
  {
   "cell_type": "code",
   "execution_count": 17,
   "id": "2133fcc7",
   "metadata": {},
   "outputs": [
    {
     "name": "stdout",
     "output_type": "stream",
     "text": [
      "1988\n",
      "<class 'int'>\n"
     ]
    }
   ],
   "source": [
    "num1 = 1988\n",
    "\n",
    "print(num1)\n",
    "print(type(num1))"
   ]
  },
  {
   "cell_type": "markdown",
   "id": "ea4cb81d",
   "metadata": {},
   "source": [
    "#### 7 - Peça para o usuário que digite um número, em seguida exiba em tela o número digitado."
   ]
  },
  {
   "cell_type": "code",
   "execution_count": 21,
   "id": "2b8977f2",
   "metadata": {},
   "outputs": [
    {
     "name": "stdout",
     "output_type": "stream",
     "text": [
      "Digite um número: 13\n",
      "O número digitado foi: 13\n"
     ]
    }
   ],
   "source": [
    "num = input('Digite um número: ')\n",
    "\n",
    "print(f'O número digitado foi: {num}')"
   ]
  },
  {
   "cell_type": "markdown",
   "id": "84f389c9",
   "metadata": {},
   "source": [
    "#### 8 - Peça para o usuário que digite um número, em seguida o converta para float, exibindo em tela tanto o número em si quanto seu tipo de dado."
   ]
  },
  {
   "cell_type": "code",
   "execution_count": 23,
   "id": "379b3243",
   "metadata": {},
   "outputs": [
    {
     "name": "stdout",
     "output_type": "stream",
     "text": [
      "Digite um número: 13\n",
      "13.0\n",
      "<class 'float'>\n"
     ]
    }
   ],
   "source": [
    "num = input('Digite um número: ')\n",
    "num = float(num)\n",
    "\n",
    "print(num)\n",
    "print(type(num))"
   ]
  },
  {
   "cell_type": "markdown",
   "id": "07659fd9",
   "metadata": {},
   "source": [
    "#### 9 - Crie uma lista com 5 nomes de pessoas."
   ]
  },
  {
   "cell_type": "code",
   "execution_count": 26,
   "id": "9c452797",
   "metadata": {},
   "outputs": [
    {
     "name": "stdout",
     "output_type": "stream",
     "text": [
      "['Alírio', 'Dorival', 'Juvenal', 'José', 'Maria']\n"
     ]
    }
   ],
   "source": [
    "nomes = ['Alírio', 'Dorival', 'Juvenal', 'José', 'Maria']\n",
    "\n",
    "print(nomes)"
   ]
  },
  {
   "cell_type": "markdown",
   "id": "bdc4fa0b",
   "metadata": {},
   "source": [
    "#### 10 - Mostre o tamanho da lista nomes e o número de elementos da lista nomes. Depois, mostre separadamente apenas o terceiro elemento dessa lista."
   ]
  },
  {
   "cell_type": "code",
   "execution_count": 29,
   "id": "9bee5956",
   "metadata": {},
   "outputs": [
    {
     "name": "stdout",
     "output_type": "stream",
     "text": [
      "5\n",
      "José\n"
     ]
    }
   ],
   "source": [
    "nomes = ['Alírio', 'Dorival', 'Juvenal', 'José', 'Maria']\n",
    "\n",
    "print(len(nomes))\n",
    "print(nomes[3])"
   ]
  },
  {
   "cell_type": "markdown",
   "id": "10aab89c",
   "metadata": {},
   "source": [
    "#### 11 - Some os valores das variáveis num1 e num2: Sendo num1= 73 e num2 113. Por fim exiba em tela o resultado."
   ]
  },
  {
   "cell_type": "code",
   "execution_count": 30,
   "id": "dd596973",
   "metadata": {},
   "outputs": [
    {
     "name": "stdout",
     "output_type": "stream",
     "text": [
      "186\n"
     ]
    }
   ],
   "source": [
    "num1 = 73\n",
    "num2 = 113\n",
    "\n",
    "print(num1 + num2)"
   ]
  },
  {
   "cell_type": "markdown",
   "id": "61816fb4",
   "metadata": {},
   "source": [
    "#### 12 - Some os valores das variáveis num1 e num2: Atribua o resultado da soma a uma nova variável homônima. Exiba em tela o canteúdo desa variável."
   ]
  },
  {
   "cell_type": "code",
   "execution_count": 32,
   "id": "ee03ee8e",
   "metadata": {},
   "outputs": [
    {
     "name": "stdout",
     "output_type": "stream",
     "text": [
      "186\n"
     ]
    }
   ],
   "source": [
    "num1 = 73\n",
    "num2 = 113\n",
    "\n",
    "soma = num1 + num2\n",
    "\n",
    "print(soma)"
   ]
  },
  {
   "cell_type": "markdown",
   "id": "317fc298",
   "metadata": {},
   "source": [
    "#### 13 - Subtraia os valores de num1 e num2 e exiba em tela o resultado."
   ]
  },
  {
   "cell_type": "code",
   "execution_count": 34,
   "id": "0fe2add7",
   "metadata": {},
   "outputs": [
    {
     "name": "stdout",
     "output_type": "stream",
     "text": [
      "-40\n"
     ]
    }
   ],
   "source": [
    "num1 = 73\n",
    "num2 = 113\n",
    "\n",
    "# print(num1 - num2)\n",
    "sub = num1 - num2\n",
    "\n",
    "print(sub)"
   ]
  },
  {
   "cell_type": "markdown",
   "id": "ce142cb8",
   "metadata": {},
   "source": [
    "#### 14 - Realize as operações de multiplicação e de divisão entre os valores das variáveis num1 e num2. Exiba em tela os valores."
   ]
  },
  {
   "cell_type": "code",
   "execution_count": 36,
   "id": "3cca1105",
   "metadata": {},
   "outputs": [
    {
     "name": "stdout",
     "output_type": "stream",
     "text": [
      "0.6460176991150443\n",
      "8249\n"
     ]
    }
   ],
   "source": [
    "num1 = 73\n",
    "num2 = 113\n",
    "\n",
    "div = num1 / num2\n",
    "mult = num1 * num2\n",
    "\n",
    "print(div)\n",
    "print(mult)"
   ]
  },
  {
   "cell_type": "markdown",
   "id": "a0c3e011",
   "metadata": {},
   "source": [
    "#### 15 - Eleve o valor da num1 a oitava potência, sendo num1 = 13."
   ]
  },
  {
   "cell_type": "code",
   "execution_count": 37,
   "id": "1ad96892",
   "metadata": {},
   "outputs": [
    {
     "name": "stdout",
     "output_type": "stream",
     "text": [
      "815730721\n"
     ]
    }
   ],
   "source": [
    "num1 = 13\n",
    "\n",
    "print(num1**8)"
   ]
  },
  {
   "cell_type": "markdown",
   "id": "74be62cb",
   "metadata": {},
   "source": [
    "#### 16 - Escreva um programa que pede que o usuário dê entrada em dois calores, em seguida, exiba em tela o resultado da soma, subtração, multiplicação e divisão desses números."
   ]
  },
  {
   "cell_type": "code",
   "execution_count": 42,
   "id": "0e336586",
   "metadata": {},
   "outputs": [
    {
     "name": "stdout",
     "output_type": "stream",
     "text": [
      "Digite o primeiro número: 13\n",
      "Digite o segundo número: 3\n",
      "A soma do 13 mais o 3 é igual a: 16\n",
      "A subtração do 13 menos o 3 é igual a: 10\n",
      "A multiplicação do 13 vezes o 3 é igual a: 39\n",
      "A divisão do 13 dividido o 3 é igual a: 4.333333333333333\n"
     ]
    }
   ],
   "source": [
    "num1 = int(input('Digite o primeiro número: '))\n",
    "num2 = int(input('Digite o segundo número: '))\n",
    "\n",
    "soma = num1 + num2\n",
    "sub = num1 - num2\n",
    "mult = num1 * num2\n",
    "div = num1 / num2\n",
    "\n",
    "print(f'A soma do {num1} mais o {num2} é igual a: {soma}')\n",
    "print(f'A subtração do {num1} menos o {num2} é igual a: {sub}')\n",
    "print(f'A multiplicação do {num1} vezes o {num2} é igual a: {mult}')\n",
    "print(f'A divisão do {num1} dividido o {num2} é igual a: {div}')\n"
   ]
  },
  {
   "cell_type": "markdown",
   "id": "036cd829",
   "metadata": {},
   "source": [
    "#### 17 - Dadas duas variáveis num1 e num2 com valores 100 e 89, respectivamente, verifique se o valor da num1 é maior que o de num2."
   ]
  },
  {
   "cell_type": "code",
   "execution_count": 44,
   "id": "bb0a8311",
   "metadata": {},
   "outputs": [
    {
     "name": "stdout",
     "output_type": "stream",
     "text": [
      "True\n"
     ]
    }
   ],
   "source": [
    "num1 = 100\n",
    "num2 = 89\n",
    "print(num1 > num2)"
   ]
  },
  {
   "cell_type": "markdown",
   "id": "35d42ff3",
   "metadata": {},
   "source": [
    "#### 18 - verifique se os valores de num1 e de num2 são iguais."
   ]
  },
  {
   "cell_type": "code",
   "execution_count": 46,
   "id": "8edf1c58",
   "metadata": {},
   "outputs": [
    {
     "name": "stdout",
     "output_type": "stream",
     "text": [
      "False\n"
     ]
    }
   ],
   "source": [
    "num1 = 100\n",
    "num2 = 89\n",
    "print(num1 == num2)"
   ]
  },
  {
   "cell_type": "markdown",
   "id": "546a51f8",
   "metadata": {},
   "source": [
    "#### 19 - Verifique se os valores de num1 e num2 são diferentes."
   ]
  },
  {
   "cell_type": "code",
   "execution_count": 47,
   "id": "ee5c26b5",
   "metadata": {},
   "outputs": [
    {
     "name": "stdout",
     "output_type": "stream",
     "text": [
      "True\n"
     ]
    }
   ],
   "source": [
    "um1 = 100\n",
    "num2 = 89\n",
    "print(num1 != num2)"
   ]
  },
  {
   "cell_type": "markdown",
   "id": "60c0989a",
   "metadata": {},
   "source": [
    "#### 20 - Verifique se o valor de num1 é igual ou menor que 100."
   ]
  },
  {
   "cell_type": "code",
   "execution_count": 48,
   "id": "977ce11b",
   "metadata": {},
   "outputs": [
    {
     "name": "stdout",
     "output_type": "stream",
     "text": [
      "True\n"
     ]
    }
   ],
   "source": [
    "um1 = 100\n",
    "num2 = 89\n",
    "print(num1 <= 100)"
   ]
  },
  {
   "cell_type": "markdown",
   "id": "082ba8fb",
   "metadata": {},
   "source": [
    "#### 21 - Verifique se os valores de num1 e num2 são igias ou maiores que 100."
   ]
  },
  {
   "cell_type": "code",
   "execution_count": 51,
   "id": "d7db8c75",
   "metadata": {},
   "outputs": [
    {
     "name": "stdout",
     "output_type": "stream",
     "text": [
      "True\n"
     ]
    }
   ],
   "source": [
    "um1 = 100\n",
    "num2 = 89\n",
    "print(num1 <= 100 and num2 <= 100)"
   ]
  },
  {
   "cell_type": "markdown",
   "id": "c42dd80c",
   "metadata": {},
   "source": [
    "#### 22 - Verifique se os valores de num1 ou num2 são iguais ou maiores que 100."
   ]
  },
  {
   "cell_type": "code",
   "execution_count": 52,
   "id": "e412d170",
   "metadata": {},
   "outputs": [
    {
     "name": "stdout",
     "output_type": "stream",
     "text": [
      "True\n"
     ]
    }
   ],
   "source": [
    "um1 = 100\n",
    "num2 = 89\n",
    "print(num1 >= 100 or num2 >= 100)"
   ]
  },
  {
   "cell_type": "markdown",
   "id": "3e93b1ec",
   "metadata": {},
   "source": [
    "#### 23 - Verifique se os valores de num1 consta nos elementos da lista1. Sendo num1 = 100 e lista1 = [10, 100, 1000, 10000, 100000]."
   ]
  },
  {
   "cell_type": "code",
   "execution_count": 54,
   "id": "ff800b2c",
   "metadata": {},
   "outputs": [
    {
     "name": "stdout",
     "output_type": "stream",
     "text": [
      "True\n"
     ]
    }
   ],
   "source": [
    "num1 = 100\n",
    "lista1 = [10, 100, 1000, 10000, 100000]\n",
    "\n",
    "print(num1 in lista1)"
   ]
  },
  {
   "cell_type": "markdown",
   "id": "8861397a",
   "metadata": {},
   "source": [
    "#### 24 - Crie duas variáveis com dois valores numéricos inteiros digitados pelo usuário, caso o valor do primeiro número for maior que o segundo, exiba em tela uma mensagem de acordo, caso contrário, exiba em tela uma mensagem dizendo que o primeiro valor digitado é menor que os segundo."
   ]
  },
  {
   "cell_type": "code",
   "execution_count": 58,
   "id": "820b68ca",
   "metadata": {},
   "outputs": [
    {
     "name": "stdout",
     "output_type": "stream",
     "text": [
      "Digite o primeiro número: 3\n",
      "Digite o segundo número: 13\n",
      "O valor do primeiro número digitado é MENOR que o segundo!\n"
     ]
    }
   ],
   "source": [
    "num1 = int(input('Digite o primeiro número: '))\n",
    "num2 = int(input('Digite o segundo número: '))\n",
    "\n",
    "if num1 > num2:\n",
    "    print(f'O valor do primeiro número digitado é MAIOR que o segundo!')\n",
    "else:\n",
    "    print(f'O valor do primeiro número digitado é MENOR que o segundo!')\n"
   ]
  },
  {
   "cell_type": "markdown",
   "id": "337221bc",
   "metadata": {},
   "source": [
    "#### 25 - Peça para que o usuário digite um número, em seguida exiba em tela uma mensagem dizendo se tal número é PAR ou se é ÍMPAR."
   ]
  },
  {
   "cell_type": "code",
   "execution_count": 60,
   "id": "03016674",
   "metadata": {},
   "outputs": [
    {
     "name": "stdout",
     "output_type": "stream",
     "text": [
      "Digite um número: 13\n",
      "13 é ÍMPAR!\n"
     ]
    }
   ],
   "source": [
    "num = int(input('Digite um número: '))\n",
    "\n",
    "if (num % 2) == 0:\n",
    "    print(f'{num} é PAR!')\n",
    "else:\n",
    "    print(f'{num} é ÍMPAR!')"
   ]
  },
  {
   "cell_type": "markdown",
   "id": "b3a3029f",
   "metadata": {},
   "source": [
    "#### 26 - Crie uma variável com valor inicial 0, enquanto o valor dessa variável for igual ou menos que 10, exiba em tela o próprio valor da variável. A cada execução a mesma deve ter seu valor atualizado, incrementado em 1 unidade. "
   ]
  },
  {
   "cell_type": "code",
   "execution_count": 62,
   "id": "8ac8f69d",
   "metadata": {},
   "outputs": [
    {
     "name": "stdout",
     "output_type": "stream",
     "text": [
      "0\n",
      "1\n",
      "2\n",
      "3\n",
      "4\n",
      "5\n",
      "6\n",
      "7\n",
      "8\n",
      "9\n",
      "10\n"
     ]
    }
   ],
   "source": [
    "var = 0\n",
    "\n",
    "while var <= 10:\n",
    "    print(var)\n",
    "    var = var + 1"
   ]
  },
  {
   "cell_type": "markdown",
   "id": "5776a7ea",
   "metadata": {},
   "source": [
    "#### 27 - Crie uma estrutura de repetição que percorre a string 'Nikola Tesla', exibindo em tela letra por letra desse nome.\n"
   ]
  },
  {
   "cell_type": "code",
   "execution_count": 64,
   "id": "e9cae43f",
   "metadata": {},
   "outputs": [
    {
     "name": "stdout",
     "output_type": "stream",
     "text": [
      "N\n",
      "i\n",
      "k\n",
      "o\n",
      "l\n",
      "a\n",
      " \n",
      "T\n",
      "e\n",
      "s\n",
      "l\n",
      "a\n"
     ]
    }
   ],
   "source": [
    "for i in 'Nikola Tesla':\n",
    "    print(i)"
   ]
  },
  {
   "cell_type": "markdown",
   "id": "4205460f",
   "metadata": {},
   "source": [
    " #### 28 - Cire uma lista com 8 elementos de uma lista de compras de supermercado, por meio de um laço de repetição for liste individualmente cada um dos itens dessa lista."
   ]
  },
  {
   "cell_type": "code",
   "execution_count": 65,
   "id": "dd993def",
   "metadata": {},
   "outputs": [
    {
     "name": "stdout",
     "output_type": "stream",
     "text": [
      "Água\n",
      "Açúcar\n",
      "Arroz\n",
      "Macarrão\n",
      "Café\n",
      "Bolacha\n",
      "Leite\n",
      "Banana\n",
      "Maçã\n",
      "Pêra\n"
     ]
    }
   ],
   "source": [
    "lista10 = ['Água', 'Açúcar', 'Arroz', 'Macarrão', 'Café', 'Bolacha', 'Leite', 'Banana', 'Maçã', 'Pêra']\n",
    "\n",
    "for i in lista10:\n",
    "    print(i)"
   ]
  },
  {
   "cell_type": "markdown",
   "id": "28466773",
   "metadata": {},
   "source": [
    "#### 29 - Crie um programa que lê um valor de início e um valor fim, exibindo em tela a contage dos números dentro desse intervalo."
   ]
  },
  {
   "cell_type": "code",
   "execution_count": 67,
   "id": "616ea515",
   "metadata": {},
   "outputs": [
    {
     "name": "stdout",
     "output_type": "stream",
     "text": [
      "Digite o número de início da contagem: 3\n",
      "Digite o número de início da contagem: 13\n",
      "3\n",
      "4\n",
      "5\n",
      "6\n",
      "7\n",
      "8\n",
      "9\n",
      "10\n",
      "11\n",
      "12\n",
      "13\n"
     ]
    }
   ],
   "source": [
    "inicio = int(input('Digite o número de início da contagem: '))\n",
    "fim = int(input('Digite o número de início da contagem: '))\n",
    "\n",
    "for i in range(inicio, fim + 1):\n",
    "    print(i)"
   ]
  },
  {
   "cell_type": "markdown",
   "id": "08115b67",
   "metadata": {},
   "source": [
    "#### 30 - Crie um programa que realiza a contagem de 0 a 20, exibindo apenas os números pares.\n"
   ]
  },
  {
   "cell_type": "code",
   "execution_count": 68,
   "id": "e6941638",
   "metadata": {},
   "outputs": [
    {
     "name": "stdout",
     "output_type": "stream",
     "text": [
      "0\n",
      "2\n",
      "4\n",
      "6\n",
      "8\n",
      "10\n",
      "12\n",
      "14\n",
      "16\n",
      "18\n",
      "20\n"
     ]
    }
   ],
   "source": [
    "for i in range(0, 21):\n",
    "    if i % 2 == 0:\n",
    "        print(i)"
   ]
  },
  {
   "cell_type": "markdown",
   "id": "fd7e0cdb",
   "metadata": {},
   "source": [
    "#### 31 - Crie um programa que realiza a Progressão Aritmética de 20 elementos, com primeiro termo e razão definidos pelo usuário.\n"
   ]
  },
  {
   "cell_type": "code",
   "execution_count": 2,
   "id": "c1c4cf73",
   "metadata": {},
   "outputs": [
    {
     "name": "stdout",
     "output_type": "stream",
     "text": [
      "Insira o primeiro termo: 13\n",
      "Insira a razão: 3\n",
      "13\n",
      "16\n",
      "19\n",
      "22\n",
      "25\n",
      "28\n",
      "31\n",
      "34\n",
      "37\n",
      "40\n",
      "43\n",
      "46\n",
      "49\n",
      "52\n",
      "55\n",
      "58\n",
      "61\n",
      "64\n",
      "67\n",
      "70\n"
     ]
    }
   ],
   "source": [
    "termo = int(input('Insira o primeiro termo: '))\n",
    "razao = int(input('Insira a razão: '))\n",
    "pa = termo + (20 - 1)*razao\n",
    "\n",
    "for i in range(termo, pa+razao, razao):\n",
    "    print(i)"
   ]
  },
  {
   "cell_type": "markdown",
   "id": "ab1f0086",
   "metadata": {},
   "source": [
    "#### 32 - Crie um programa que exibe em tela a tabuada de um determinado número fornecido pelo usuário.\n"
   ]
  },
  {
   "cell_type": "code",
   "execution_count": 3,
   "id": "1a714222",
   "metadata": {},
   "outputs": [
    {
     "name": "stdout",
     "output_type": "stream",
     "text": [
      "Insira um número para iniciarmos a tabuada: 9\n",
      "9 X 1 = 9\n",
      "9 X 2 = 18\n",
      "9 X 3 = 27\n",
      "9 X 4 = 36\n",
      "9 X 5 = 45\n",
      "9 X 6 = 54\n",
      "9 X 7 = 63\n",
      "9 X 8 = 72\n",
      "9 X 9 = 81\n",
      "9 X 10 = 90\n"
     ]
    }
   ],
   "source": [
    "x = termo = int(input('Insira um número para iniciarmos a tabuada: '))\n",
    "\n",
    "for num in range(1, 11):\n",
    "  print(f'{x} X {num} = {x*num}')  "
   ]
  },
  {
   "cell_type": "markdown",
   "id": "5be2cb94",
   "metadata": {},
   "source": [
    "#### 33 - Crie um programa que realiza a contagem regressiva de 20 segundos."
   ]
  },
  {
   "cell_type": "code",
   "execution_count": 5,
   "id": "3b07a18f",
   "metadata": {},
   "outputs": [
    {
     "name": "stdout",
     "output_type": "stream",
     "text": [
      "20\n",
      "19\n",
      "18\n",
      "17\n",
      "16\n",
      "15\n",
      "14\n",
      "13\n",
      "12\n",
      "11\n",
      "10\n",
      "9\n",
      "8\n",
      "7\n",
      "6\n",
      "5\n",
      "4\n",
      "3\n",
      "2\n",
      "1\n",
      "0\n",
      "Contagem Terminada!\n"
     ]
    }
   ],
   "source": [
    "from time import sleep\n",
    "\n",
    "for i in range(20, -1, -1):\n",
    "    print(i)\n",
    "    sleep(1)\n",
    "    \n",
    "print('Contagem Terminada!')"
   ]
  },
  {
   "cell_type": "markdown",
   "id": "4aa3e059",
   "metadata": {},
   "source": [
    "#### 34 - Crie um programa que realiza a contagem de 1 até 100, usando apenas de números ímpares, ao final do processo exiba em tela quantos números ímpares foram encontrados nesse intervalo, assim como a soma dos mesmos.\n"
   ]
  },
  {
   "cell_type": "code",
   "execution_count": 9,
   "id": "350af330",
   "metadata": {},
   "outputs": [
    {
     "name": "stdout",
     "output_type": "stream",
     "text": [
      "Foram encontrados 33 números ímpares!\n",
      "A soma destes números é: 1683 !!!\n"
     ]
    }
   ],
   "source": [
    "contador = 0\n",
    "soma = 0\n",
    "\n",
    "for i in range(1, 101):\n",
    "    if i % 3 == 0:\n",
    "        soma += i\n",
    "        contador += 1\n",
    "        \n",
    "print(f'Foram encontrados {contador} números ímpares!')\n",
    "print(f'A soma destes números é: {soma} !!!')"
   ]
  },
  {
   "cell_type": "markdown",
   "id": "86c18800",
   "metadata": {},
   "source": [
    "#### 35 - Crie um programa que pede ao usuário que o mesmo digite uma númeroo qualquer, em seguida retrone se esse número é primo ou não, caso não, retorne também quantas vezes esse número é divisível.\n"
   ]
  },
  {
   "cell_type": "code",
   "execution_count": 11,
   "id": "beb7261b",
   "metadata": {},
   "outputs": [
    {
     "name": "stdout",
     "output_type": "stream",
     "text": [
      "Insira um número: 13\n",
      "13 é primo!\n",
      "13 é divisível por 1 ou por 13\n"
     ]
    }
   ],
   "source": [
    "num = int(input('Insira um número: '))\n",
    "divisoes = 0\n",
    "\n",
    "for i in range(1, num +1):\n",
    "    if num % i == 0:\n",
    "        divisoes += 1\n",
    "        \n",
    "if divisoes == 2:\n",
    "    print(f'{num} é primo!')\n",
    "    print(f'{num} é divisível por 1 ou por {num}')"
   ]
  },
  {
   "cell_type": "markdown",
   "id": "3c22bdc5",
   "metadata": {},
   "source": [
    "#### 36 - Cire um programa que pede que o usuário digite um nome ou uma frase, verifique se esse conteúdo digitado é um palindromo ou não, exibindo em tela esse resultado."
   ]
  },
  {
   "cell_type": "code",
   "execution_count": 3,
   "id": "d2d6f21a",
   "metadata": {},
   "outputs": [
    {
     "name": "stdout",
     "output_type": "stream",
     "text": [
      "Digite uma palavra ou frase: arara\n",
      "ARARA ARARA\n",
      "É um palíndromo!!!\n"
     ]
    }
   ],
   "source": [
    "frase = str(input('Digite uma palavra ou frase: ')).strip().upper()\n",
    "palavras = frase.split()\n",
    "caracteres = ''.join(palavras)\n",
    "fraseinvertida= ''\n",
    "\n",
    "for i in range(len(caracteres)-1, -1, -1):\n",
    "    fraseinvertida += caracteres[i]\n",
    "    \n",
    "print(caracteres, fraseinvertida)\n",
    "\n",
    "if fraseinvertida == caracteres:\n",
    "    print('É um palíndromo!!!')\n",
    "else:\n",
    "    print('Não é um palíndromo...')"
   ]
  },
  {
   "cell_type": "markdown",
   "id": "9689b233",
   "metadata": {},
   "source": [
    "#### 37 - Declare uma variável que por sua vez recebe um nome digitado pelo usuário, em seguida, exiba em tela uma mensagem de boas-vindas que incorpora o nome anteriro digitado, fazendo uso de f'strings.\n"
   ]
  },
  {
   "cell_type": "code",
   "execution_count": 8,
   "id": "f73631b8",
   "metadata": {},
   "outputs": [
    {
     "name": "stdout",
     "output_type": "stream",
     "text": [
      "Qual o seu nome? leo\n",
      "Seja bem vindo, Leo !\n"
     ]
    }
   ],
   "source": [
    "usuario = str(input('Qual o seu nome? '))\n",
    "print(f'Seja bem vindo, {usuario.title()} !')"
   ]
  },
  {
   "cell_type": "markdown",
   "id": "572813ad",
   "metadata": {},
   "source": [
    "#### 38 - Peça para uqe o usuário digite um número, diretamente dentro da função print(), eleve esse número ao quadrado, exibindo o resultado incorporado a uma mensagem."
   ]
  },
  {
   "cell_type": "code",
   "execution_count": 9,
   "id": "a67d1434",
   "metadata": {},
   "outputs": [
    {
     "name": "stdout",
     "output_type": "stream",
     "text": [
      "Digite um número: 33\n",
      "33 elevado ao quadrado é igual: 1089\n"
     ]
    }
   ],
   "source": [
    "num = int(input('Digite um número: '))\n",
    "\n",
    "print(f'{num} elevado ao quadrado é igual: {num**2}')"
   ]
  },
  {
   "cell_type": "markdown",
   "id": "6f17a16f",
   "metadata": {},
   "source": [
    "#### 39 - Dada a seguinte lista: nomes = ['Ana', 'Carlos', 'Daiane', 'Fernando', 'Maria'], substitua o terceiro elemento da lista por 'Jamile'."
   ]
  },
  {
   "cell_type": "code",
   "execution_count": 11,
   "id": "9ab91416",
   "metadata": {},
   "outputs": [
    {
     "name": "stdout",
     "output_type": "stream",
     "text": [
      "['Ana', 'Carlos', 'Jamile', 'Fernando', 'Maria']\n"
     ]
    }
   ],
   "source": [
    "nomes = ['Ana', 'Carlos', 'Daiane', 'Fernando', 'Maria']\n",
    "nomes[2] = 'Jamile'\n",
    "\n",
    "print(nomes)"
   ]
  },
  {
   "cell_type": "markdown",
   "id": "f2dec9d1",
   "metadata": {},
   "source": [
    "#### 40 - Adicione o elemento 'Paulo' na lista nomes."
   ]
  },
  {
   "cell_type": "code",
   "execution_count": 13,
   "id": "652c8c44",
   "metadata": {},
   "outputs": [
    {
     "name": "stdout",
     "output_type": "stream",
     "text": [
      "['Ana', 'Carlos', 'Daiane', 'Fernando', 'Maria', 'Paulo']\n"
     ]
    }
   ],
   "source": [
    "nomes = ['Ana', 'Carlos', 'Daiane', 'Fernando', 'Maria']\n",
    "nomes.append('Paulo')\n",
    "\n",
    "print(nomes)"
   ]
  },
  {
   "cell_type": "markdown",
   "id": "d2c7d99b",
   "metadata": {},
   "source": [
    "#### 41 - Adicione o elemento 'Eliana' na lista nomes, especificamente na terceira posição da lista."
   ]
  },
  {
   "cell_type": "code",
   "execution_count": 14,
   "id": "532b7ffd",
   "metadata": {},
   "outputs": [
    {
     "name": "stdout",
     "output_type": "stream",
     "text": [
      "['Ana', 'Carlos', 'Eliana', 'Daiane', 'Fernando', 'Maria']\n"
     ]
    }
   ],
   "source": [
    "nomes = ['Ana', 'Carlos', 'Daiane', 'Fernando', 'Maria']\n",
    "\n",
    "nomes.insert(2, 'Eliana')\n",
    "print(nomes)"
   ]
  },
  {
   "cell_type": "markdown",
   "id": "1aff8279",
   "metadata": {},
   "source": [
    "#### 42 - Remova o elemento 'Carlos' da lista de nomes."
   ]
  },
  {
   "cell_type": "code",
   "execution_count": 16,
   "id": "42700e00",
   "metadata": {},
   "outputs": [
    {
     "name": "stdout",
     "output_type": "stream",
     "text": [
      "['Ana', 'Daiane', 'Fernando', 'Maria']\n"
     ]
    }
   ],
   "source": [
    "nomes = ['Ana', 'Carlos', 'Daiane', 'Fernando', 'Maria']\n",
    "\n",
    "nomes.remove('Carlos')\n",
    "print(nomes)"
   ]
  },
  {
   "cell_type": "markdown",
   "id": "7042c722",
   "metadata": {},
   "source": [
    "#### 43 - Mostre o segundo terceiro e quarto elemento da lista de nomes. Separadamente, mostre apenas o último elemento da lista de nomes."
   ]
  },
  {
   "cell_type": "code",
   "execution_count": 17,
   "id": "b368b0a8",
   "metadata": {},
   "outputs": [
    {
     "name": "stdout",
     "output_type": "stream",
     "text": [
      "['Jamile', 'Daiane', 'Fernando']\n",
      "Maria\n"
     ]
    }
   ],
   "source": [
    "nomes = ['Ana', 'Jamile', 'Daiane', 'Fernando', 'Maria']\n",
    "\n",
    "print(nomes[1:4])\n",
    "print(nomes[-1])"
   ]
  },
  {
   "cell_type": "markdown",
   "id": "6be378f3",
   "metadata": {},
   "source": [
    "#### 44 - Crie um dicionário via método construtor dict(), atribuindo para o mesmo ao menos 5 conjuntos de chaves e valores representando objetos e seus respectivos preços."
   ]
  },
  {
   "cell_type": "code",
   "execution_count": 18,
   "id": "21274a42",
   "metadata": {},
   "outputs": [
    {
     "name": "stdout",
     "output_type": "stream",
     "text": [
      "{'Pão': 'R$ 1,99', 'Açúcar': 'R$ 4,99', 'Café': 'R$ 3,49', 'Banana': 'R$ 3,99', 'Carne': 'R$ 16,99'}\n"
     ]
    }
   ],
   "source": [
    "dicionario = dict(Pão = 'R$ 1,99', \n",
    "                 Açúcar = 'R$ 4,99', \n",
    "                 Café = 'R$ 3,49',\n",
    "                 Banana = 'R$ 3,99',\n",
    "                 Carne = 'R$ 16,99')\n",
    "\n",
    "print(dicionario)"
   ]
  },
  {
   "cell_type": "markdown",
   "id": "ad62a262",
   "metadata": {},
   "source": [
    "#### 45 - A partir da seguinte lista = ['C', 'JavaScript', 'Lua', 'Python'] verifique primeiramente e retorne ao usuário se a linguagem de programação Python consta na lista. Retorne uma mensagem amigável ao usuário para estas duas situações."
   ]
  },
  {
   "cell_type": "code",
   "execution_count": 23,
   "id": "7b1f44b2",
   "metadata": {},
   "outputs": [
    {
     "name": "stdout",
     "output_type": "stream",
     "text": [
      "Python faz parte da lista!\n"
     ]
    }
   ],
   "source": [
    "lista = ['C', 'JavaScript', 'Lua', 'Python']\n",
    "\n",
    "for i in lista:\n",
    "    if i == 'Python':\n",
    "        print('Python faz parte da lista!' )\n",
    "    else:\n",
    "        pass\n",
    "        "
   ]
  },
  {
   "cell_type": "code",
   "execution_count": null,
   "id": "c940445b",
   "metadata": {},
   "outputs": [],
   "source": []
  }
 ],
 "metadata": {
  "kernelspec": {
   "display_name": "Python 3 (ipykernel)",
   "language": "python",
   "name": "python3"
  },
  "language_info": {
   "codemirror_mode": {
    "name": "ipython",
    "version": 3
   },
   "file_extension": ".py",
   "mimetype": "text/x-python",
   "name": "python",
   "nbconvert_exporter": "python",
   "pygments_lexer": "ipython3",
   "version": "3.7.16"
  }
 },
 "nbformat": 4,
 "nbformat_minor": 5
}
